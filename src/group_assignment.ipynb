{
 "cells": [
  {
   "cell_type": "markdown",
   "metadata": {},
   "source": [
    "# Group-4\n",
    "\n",
    "## Problem Statement\n",
    "\n",
    "---\n",
    "\n",
    "There is a new innovation in the financial industry called Neo-Banks: new aged digital-only banks without physical branches. We thought that there should be some sort of intersection between these new-age banks, cryptocurrency, and the data world. So we decide to launch a new initiative, Data Bank!\n",
    "\n",
    "> **Data Bank runs just like any other digital bank, but it isn’t only for banking activities, they also have the world’s most secure distributed data storage platform!** Customers are allocated cloud data storage limits which are directly linked to how much money they have in their accounts. There are a few interesting caveats that go with this business model, and this is where the Data Bank team needs your help!\n",
    "> \n",
    "\n",
    "The management team at Data Bank wants to increase its total customer base but also needs some help tracking just how much data storage its customers will need. This case study is all about calculating metrics, and growth and helping the business analyze their data in a smart way to better forecast and plan for their future developments!\n",
    "\n",
    "## Avaliable Data\n",
    "\n",
    "---\n",
    "\n",
    "Our team has prepared a data model for this case study to get you familiar with their data.\n",
    "\n",
    "![Untitled](https://flannel-xylophone-a44.notion.site/image/https%3A%2F%2Fs3-us-west-2.amazonaws.com%2Fsecure.notion-static.com%2F65959e22-f524-45f7-b911-f85842b6ca73%2FUntitled.png?table=block&id=418f199c-761f-4443-9798-abf313bf18ba&spaceId=83b5e96f-5c59-4a23-b33b-0fafc3cb289d&width=1340&userId=&cache=v2)\n",
    "\n",
    "### **Table 1: Regions**\n",
    "\n",
    "Just like popular cryptocurrency platforms, Data Bank is also run off a network of nodes where both money and data is stored across the globe. In a traditional banking sense, you can think of these nodes as bank branches or stores that exist around the world. \n",
    "\n",
    "### **Table 2: Customer Nodes**\n",
    "\n",
    "Customers are randomly distributed across the nodes according to their region, this also specifies exactly which node contains both their cash and data. This random distribution changes frequently to reduce the risk of hackers getting into Data Bank’s system and stealing customer’s money and data!\n",
    "\n",
    "### **Table 3: Customer Transactions**\n",
    "\n",
    "This table stores all customer deposits, withdrawals and purchases made using their Data Bank debit card.\n",
    "\n",
    "**Link to download data:** \n",
    "\n",
    "https://drive.google.com/drive/folders/1VNTTdExilLfkxkyZrWnWYXdkdSKt26kr?usp=share_link"
   ]
  },
  {
   "cell_type": "markdown",
   "metadata": {},
   "source": [
    "## Answers\n",
    "\n",
    "---\n",
    "\n",
    "### Create MySQL Connectors & `show` Function"
   ]
  },
  {
   "cell_type": "code",
   "execution_count": 3,
   "metadata": {},
   "outputs": [],
   "source": [
    "import mysql.connector\n",
    "import pandas as pd\n",
    "\n",
    "def show(db, qry):\n",
    "    connection = mysql.connector.connect(\n",
    "        host='localhost',\n",
    "        user='root',\n",
    "        password='Hajmin31!',\n",
    "        database=db\n",
    "    )\n",
    "\n",
    "    executor = connection.cursor()\n",
    "    executor.execute(qry)\n",
    "    table = executor.fetchall()\n",
    "\n",
    "    connection.close()\n",
    "    return pd.DataFrame(data=table, columns=executor.column_names)"
   ]
  },
  {
   "cell_type": "markdown",
   "metadata": {},
   "source": [
    "### Question 1: **Customer Nodes Exploration**\n",
    "\n",
    "1. How many unique nodes are there on the Data Bank system?"
   ]
  },
  {
   "cell_type": "code",
   "execution_count": 4,
   "metadata": {},
   "outputs": [
    {
     "data": {
      "text/html": [
       "<div>\n",
       "<style scoped>\n",
       "    .dataframe tbody tr th:only-of-type {\n",
       "        vertical-align: middle;\n",
       "    }\n",
       "\n",
       "    .dataframe tbody tr th {\n",
       "        vertical-align: top;\n",
       "    }\n",
       "\n",
       "    .dataframe thead th {\n",
       "        text-align: right;\n",
       "    }\n",
       "</style>\n",
       "<table border=\"1\" class=\"dataframe\">\n",
       "  <thead>\n",
       "    <tr style=\"text-align: right;\">\n",
       "      <th></th>\n",
       "      <th>region_id</th>\n",
       "      <th>region_name</th>\n",
       "      <th>unique_nodes</th>\n",
       "    </tr>\n",
       "  </thead>\n",
       "  <tbody>\n",
       "    <tr>\n",
       "      <th>0</th>\n",
       "      <td>1</td>\n",
       "      <td>Australia</td>\n",
       "      <td>5</td>\n",
       "    </tr>\n",
       "    <tr>\n",
       "      <th>1</th>\n",
       "      <td>2</td>\n",
       "      <td>America</td>\n",
       "      <td>5</td>\n",
       "    </tr>\n",
       "    <tr>\n",
       "      <th>2</th>\n",
       "      <td>3</td>\n",
       "      <td>Africa</td>\n",
       "      <td>5</td>\n",
       "    </tr>\n",
       "    <tr>\n",
       "      <th>3</th>\n",
       "      <td>4</td>\n",
       "      <td>Asia</td>\n",
       "      <td>5</td>\n",
       "    </tr>\n",
       "    <tr>\n",
       "      <th>4</th>\n",
       "      <td>5</td>\n",
       "      <td>Europe</td>\n",
       "      <td>5</td>\n",
       "    </tr>\n",
       "  </tbody>\n",
       "</table>\n",
       "</div>"
      ],
      "text/plain": [
       "   region_id region_name  unique_nodes\n",
       "0          1   Australia             5\n",
       "1          2     America             5\n",
       "2          3      Africa             5\n",
       "3          4        Asia             5\n",
       "4          5      Europe             5"
      ]
     },
     "execution_count": 4,
     "metadata": {},
     "output_type": "execute_result"
    }
   ],
   "source": [
    "query = '''\n",
    "SELECT  customer_nodes.region_id, \n",
    "        regions.region_name,\n",
    "        count(distinct customer_nodes.node_id) AS unique_nodes\n",
    "FROM customer_nodes JOIN regions ON (customer_nodes.region_id = regions.region_id)\n",
    "GROUP BY customer_nodes.region_id, regions.region_name\n",
    "ORDER BY customer_nodes.region_id;\n",
    "'''\n",
    "show('data_bank', query)"
   ]
  },
  {
   "cell_type": "markdown",
   "metadata": {},
   "source": [
    "2. What is the number of nodes per region?"
   ]
  },
  {
   "cell_type": "code",
   "execution_count": null,
   "metadata": {},
   "outputs": [],
   "source": [
    "query = '''\n",
    "SELECT\tregions.region_id,\n",
    "\t\tregions.region_name,\n",
    "\t\tCOUNT(node_id) AS number_of_nodes\n",
    "FROM customer_nodes, regions\n",
    "WHERE customer_nodes.region_id = regions.region_id\n",
    "GROUP BY region_id, region_name;\n",
    "'''\n",
    "show('data_bank', query)"
   ]
  },
  {
   "cell_type": "markdown",
   "metadata": {},
   "source": [
    "3. How many customers are allocated to each region?"
   ]
  },
  {
   "cell_type": "code",
   "execution_count": null,
   "metadata": {},
   "outputs": [],
   "source": [
    "query = '''\n",
    "SELECT\tregions.region_id,\n",
    "\t\tregion_name,\n",
    "\t\tCOUNT(DISTINCT customer_id) AS customers_allocated\n",
    "FROM customer_nodes, regions\n",
    "WHERE customer_nodes.region_id = regions.region_id\n",
    "GROUP BY region_id, region_name\n",
    "ORDER BY region_id;\n",
    "'''\n",
    "show('data_bank', query)"
   ]
  },
  {
   "cell_type": "markdown",
   "metadata": {},
   "source": [
    "4. How many days on average are customers reallocated to a different node?"
   ]
  },
  {
   "cell_type": "code",
   "execution_count": null,
   "metadata": {},
   "outputs": [],
   "source": [
    "query = '''\n",
    "SELECT ROUND(AVG(DATEDIFF(end_date, start_date))) AS average_days\n",
    "FROM customer_nodes\n",
    "WHERE YEAR(end_date) <> 9999;\n",
    "'''\n",
    "show('data_bank', query)"
   ]
  },
  {
   "cell_type": "markdown",
   "metadata": {},
   "source": [
    "5. What is the median, 80th and 95th percentile for this same reallocation days metric for each region?"
   ]
  },
  {
   "cell_type": "code",
   "execution_count": null,
   "metadata": {},
   "outputs": [],
   "source": [
    "query = ''' \n",
    "WITH cte AS (\n",
    "SELECT\tcustomer_id,\n",
    "\t\tregions.region_id AS region_id,\n",
    "        regions.region_name AS region_name,\n",
    "\t\tAVG(DATEDIFF(end_date, start_date)) AS average_days,\n",
    "        NTILE(100) OVER (ORDER BY AVG(DATEDIFF(end_date, start_date))) AS average_days_percentile\n",
    "FROM customer_nodes, regions\n",
    "WHERE YEAR(end_date) <> 9999\n",
    "GROUP BY customer_id, regions.region_id, regions.region_name\n",
    ")\n",
    "SELECT DISTINCT\n",
    "\tregion_id,\n",
    "\tregion_name,\n",
    "    ROUND(((SELECT MAX(average_days) FROM cte WHERE average_days_percentile = 50) \n",
    "\t\t+ (SELECT MIN(average_days) FROM cte WHERE average_days_percentile = 51))\n",
    "\t\t/ 2) AS average_days_median,\n",
    "    ROUND((SELECT DISTINCT average_days FROM cte WHERE average_days_percentile = 80)) AS average_days_80th_percentile\n",
    "FROM cte;\n",
    "'''\n",
    "show('data_bank', query)"
   ]
  },
  {
   "cell_type": "code",
   "execution_count": null,
   "metadata": {},
   "outputs": [],
   "source": [
    "query = ''' \n",
    "WITH cte AS (\n",
    "SELECT\tcustomer_id,\n",
    "\t\tregions.region_id AS region_id,\n",
    "        regions.region_name AS region_name,\n",
    "\t\tAVG(DATEDIFF(end_date, start_date)) AS average_days,\n",
    "        NTILE(100) OVER (ORDER BY AVG(DATEDIFF(end_date, start_date))) AS average_days_percentile\n",
    "FROM customer_nodes, regions\n",
    "WHERE YEAR(end_date) <> 9999\n",
    "GROUP BY customer_id, regions.region_id, regions.region_name\n",
    ")\n",
    "SELECT DISTINCT\n",
    "\tregion_id,\n",
    "\tregion_name,\n",
    "\tROUND(average_days) AS average_days,\n",
    "\taverage_days_percentile\n",
    "FROM cte\n",
    "WHERE average_days_percentile = 95;\n",
    "'''\n",
    "show('data_bank', query)"
   ]
  },
  {
   "cell_type": "markdown",
   "metadata": {},
   "source": [
    "### Question 2: **Customer Transactions**\n",
    "\n",
    "1. What is the unique count and total amount for each transaction type?"
   ]
  },
  {
   "cell_type": "code",
   "execution_count": null,
   "metadata": {},
   "outputs": [],
   "source": [
    "query = ''' \n",
    "SELECT DISTINCT\n",
    "\ttxn_type,\n",
    "\tCOUNT(txn_type) AS unique_count,\n",
    "\tSUM(txn_amount) AS total_amount\n",
    "\t\tFROM customer_transactions\n",
    "        GROUP BY txn_type\n",
    "        ORDER BY unique_count DESC;\n",
    "'''\n",
    "show('data_bank', query)"
   ]
  },
  {
   "cell_type": "markdown",
   "metadata": {},
   "source": [
    "2. What is the average total historical deposit counts and amounts for all customers?"
   ]
  },
  {
   "cell_type": "code",
   "execution_count": null,
   "metadata": {},
   "outputs": [],
   "source": [
    "query = ''' \n",
    "WITH cte AS (\n",
    "SELECT\tcustomer_id,\n",
    "\tCOUNT(txn_amount) AS unique_count,\n",
    "        SUM(txn_amount) AS total_amount\n",
    "FROM customer_transactions\n",
    "WHERE txn_type = 'deposit'\n",
    "GROUP BY customer_id\n",
    ")\n",
    "SELECT\tROUND(AVG(unique_count)) AS average_deposit_count,\n",
    "\t\tROUND(AVG(total_amount)) AS average_total_deposit\n",
    "FROM cte;\n",
    "'''\n",
    "show('data_bank', query)"
   ]
  },
  {
   "cell_type": "markdown",
   "metadata": {},
   "source": [
    "3. For each month, how many Data Bank customers make more than 1 deposit and either 1 purchase or 1 withdrawal in a single month?"
   ]
  },
  {
   "cell_type": "code",
   "execution_count": null,
   "metadata": {},
   "outputs": [],
   "source": [
    "query = ''' \n",
    "WITH cte AS (\n",
    "SELECT \ttable1.customer_id,\n",
    "\t\ttable1.txn_month AS month_id, \n",
    "        table1.month_name AS name,\n",
    "        table1.txn_type AS type,\n",
    "        table1.deposit_count,\n",
    "        table2.txn_month,\n",
    "        table2.month_name,\n",
    "        table2.txn_type,\n",
    "        table2.count\n",
    "FROM (SELECT\tcustomer_id,\n",
    "\t\t\t\tMONTH(txn_date) AS txn_month,\n",
    "\t\t\t\tMONTHNAME(txn_date) AS month_name,\n",
    "\t\t\t\ttxn_type,\n",
    "\t\t\t\tCOUNT(txn_type) AS deposit_count\n",
    "\t\tFROM customer_transactions\n",
    "\t\tWHERE txn_type = 'deposit'\n",
    "\t\tGROUP BY customer_id, txn_month, month_name, txn_type\n",
    "\t\tHAVING deposit_count > 1)\n",
    "\t\t\tAS table1,\n",
    "\t(SELECT\tcustomer_id,\n",
    "\t\t\tMONTH(txn_date) AS txn_month,\n",
    "\t\t\tMONTHNAME(txn_date) AS month_name,\n",
    "\t\t\ttxn_type,\n",
    "\t\t\tCOUNT(txn_type) AS count\n",
    "\t\tFROM customer_transactions\n",
    "\t\tWHERE txn_type = 'purchase' OR txn_type = 'withdrawal'\n",
    "\t\tGROUP BY customer_id, txn_month, month_name, txn_type\n",
    "\t\tHAVING count = 1)\n",
    "\t\t\tAS table2\n",
    "WHERE table1.customer_id = table2.customer_id\n",
    ")\n",
    "SELECT \tmonth_id,\n",
    "\t\tname AS month_name,\n",
    "        COUNT(DISTINCT customer_id) AS customer_count\n",
    "FROM cte\n",
    "GROUP BY month_id, name;\n",
    "'''\n",
    "show('data_bank', query)"
   ]
  },
  {
   "cell_type": "markdown",
   "metadata": {},
   "source": [
    "4. What is the closing balance for each customer at the end of the month?"
   ]
  },
  {
   "cell_type": "code",
   "execution_count": null,
   "metadata": {},
   "outputs": [],
   "source": [
    "query = ''' \n",
    "WITH cte1 AS (\n",
    "SELECT\tcustomer_id AS id1,\n",
    "\t\tMONTH(txn_date) AS txn_month1,\n",
    "        MONTHNAME(txn_date) AS month_name1,\n",
    "\t\tSUM(txn_amount) AS total_deposit\n",
    "FROM customer_transactions\n",
    "WHERE txn_type = 'deposit'\n",
    "GROUP BY customer_id, txn_month1, month_name1\n",
    "),\n",
    "cte2 AS (\n",
    "SELECT\tcustomer_id AS id2,\n",
    "\t\tMONTH(txn_date) AS txn_month2,\n",
    "\t\tMONTHNAME(txn_date) AS month_name2,\n",
    "\t\tSUM(txn_amount) AS total_withdrawal\n",
    "FROM customer_transactions\n",
    "WHERE txn_type = 'withdrawal'\n",
    "GROUP BY customer_id, txn_month2, month_name2\n",
    "),\n",
    "cte3 AS (\n",
    "SELECT\tcustomer_id AS id3,\n",
    "\t\tMONTH(txn_date) AS txn_month3,\n",
    "\t\tMONTHNAME(txn_date) AS month_name3,\n",
    "\t\tSUM(txn_amount) AS total_purchase\n",
    "FROM customer_transactions\n",
    "WHERE txn_type = 'purchase'\n",
    "GROUP BY customer_id, txn_month3, month_name3\n",
    "),\n",
    "cte4 AS (\n",
    "SELECT\tid1 AS customer_id,\n",
    "\t\ttxn_month1 AS txn_month,\n",
    "\t\tmonth_name1 AS month_name,\n",
    "\t\ttotal_deposit,\n",
    "        total_withdrawal,\n",
    "        total_purchase,\n",
    "\t\ttotal_deposit - IFNULL(total_withdrawal, 0) - IFNULL(total_purchase, 0) AS balance,\n",
    "        SUM(total_deposit - IFNULL(total_withdrawal, 0) - IFNULL(total_purchase, 0)) OVER(PARTITION BY id1) AS closing_balance,\n",
    "\t\tROW_NUMBER() OVER (PARTITION BY id1 ORDER BY txn_month1 DESC) AS row_no\n",
    "FROM cte1\n",
    "LEFT JOIN cte2 ON id1 = id2 AND txn_month1 = txn_month2\n",
    "LEFT JOIN cte3 ON id1 = id3 AND txn_month1 = txn_month3\n",
    "ORDER BY id1\n",
    ")\n",
    "SELECT\tcustomer_id,\n",
    "\t\ttxn_month,\n",
    "\t\tmonth_name,\n",
    "        closing_balance\n",
    "FROM cte4\n",
    "WHERE row_no = 1;\n",
    "'''\n",
    "show('data_bank', query)"
   ]
  },
  {
   "cell_type": "markdown",
   "metadata": {},
   "source": [
    "5. What is the percentage of customers who increase their closing balance by more than 5%?"
   ]
  },
  {
   "cell_type": "code",
   "execution_count": null,
   "metadata": {},
   "outputs": [],
   "source": [
    "query = ''' \n",
    "WITH cte1 AS (\n",
    "SELECT\tcustomer_id AS id1,\n",
    "\t\tMONTH(txn_date) AS txn_month1,\n",
    "        MONTHNAME(txn_date) AS month_name1,\n",
    "\t\tSUM(txn_amount) AS total_deposit\n",
    "FROM customer_transactions\n",
    "WHERE txn_type = 'deposit'\n",
    "GROUP BY customer_id, txn_month1, month_name1\n",
    "),\n",
    "cte2 AS (\n",
    "SELECT\tcustomer_id AS id2,\n",
    "\t\tMONTH(txn_date) AS txn_month2,\n",
    "\t\tMONTHNAME(txn_date) AS month_name2,\n",
    "\t\tSUM(txn_amount) AS total_withdrawal\n",
    "FROM customer_transactions\n",
    "WHERE txn_type = 'withdrawal'\n",
    "GROUP BY customer_id, txn_month2, month_name2\n",
    "),\n",
    "cte3 AS (\n",
    "SELECT\tcustomer_id AS id3,\n",
    "\t\tMONTH(txn_date) AS txn_month3,\n",
    "\t\tMONTHNAME(txn_date) AS month_name3,\n",
    "\t\tSUM(txn_amount) AS total_purchase\n",
    "FROM customer_transactions\n",
    "WHERE txn_type = 'purchase'\n",
    "GROUP BY customer_id, txn_month3, month_name3\n",
    "),\n",
    "cte4 AS (\n",
    "SELECT\tid1 AS id4,\n",
    "\t\ttxn_month1 AS txn_month4,\n",
    "\t\tmonth_name1 AS month_name4,\n",
    "\t\ttotal_deposit,\n",
    "        total_withdrawal,\n",
    "        total_purchase,\n",
    "\t\ttotal_deposit - IFNULL(total_withdrawal, 0) - IFNULL(total_purchase, 0) AS balance,\n",
    "        SUM(total_deposit - IFNULL(total_withdrawal, 0) - IFNULL(total_purchase, 0)) OVER(PARTITION BY id1) AS closing_balance,\n",
    "\t\tROW_NUMBER() OVER (PARTITION BY id1 ORDER BY txn_month1 DESC) AS row_no\n",
    "FROM cte1\n",
    "LEFT JOIN cte2 ON id1 = id2 AND txn_month1 = txn_month2\n",
    "LEFT JOIN cte3 ON id1 = id3 AND txn_month1 = txn_month3\n",
    "ORDER BY id1\n",
    "),\n",
    "cte5 AS (\n",
    "SELECT\tid4 AS id5,\n",
    "\t\ttxn_month4 AS txn_month5,\n",
    "\t\tmonth_name4 AS month_name5,\n",
    "        closing_balance\n",
    "FROM cte4\n",
    "WHERE row_no = 1\n",
    "),\n",
    "cte6 AS(\n",
    "SELECT\tid4 AS id6,\n",
    "\t\ttxn_month4,\n",
    "\t\tmonth_name4,\n",
    "        balance AS previous_month_balance,\n",
    "        cte5.closing_balance AS closing_balance,\n",
    "        cte5.closing_balance / balance AS balance_ratio\n",
    "FROM cte4\n",
    "FULL JOIN cte5 ON id4 = id5\n",
    "WHERE row_no = 1\n",
    ")\n",
    "SELECT\t(SELECT COUNT(id6) AS customer_count FROM cte6 WHERE balance_ratio > 0.05) AS customer_count_filtered,\n",
    "\t\tCOUNT(id6) AS customer_count,\n",
    "\t\tROUND((SELECT COUNT(id6) AS customer_count FROM cte6 WHERE balance_ratio > 0.05) / COUNT(id6) * 100, 1) AS filtered_customer_percentage\n",
    "FROM cte6;\n",
    "'''\n",
    "show('data_bank', query)"
   ]
  }
 ],
 "metadata": {
  "kernelspec": {
   "display_name": "Python 3",
   "language": "python",
   "name": "python3"
  },
  "language_info": {
   "codemirror_mode": {
    "name": "ipython",
    "version": 3
   },
   "file_extension": ".py",
   "mimetype": "text/x-python",
   "name": "python",
   "nbconvert_exporter": "python",
   "pygments_lexer": "ipython3",
   "version": "3.11.5"
  }
 },
 "nbformat": 4,
 "nbformat_minor": 2
}
